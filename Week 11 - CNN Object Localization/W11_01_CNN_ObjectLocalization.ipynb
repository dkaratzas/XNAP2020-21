{
  "nbformat": 4,
  "nbformat_minor": 0,
  "metadata": {
    "accelerator": "GPU",
    "colab": {
      "name": "W11_01_CNN_ObjectLocalization.ipynb",
      "provenance": [],
      "collapsed_sections": []
    },
    "kernelspec": {
      "display_name": "Python 3",
      "language": "python",
      "name": "python3"
    },
    "language_info": {
      "codemirror_mode": {
        "name": "ipython",
        "version": 3
      },
      "file_extension": ".py",
      "mimetype": "text/x-python",
      "name": "python",
      "nbconvert_exporter": "python",
      "pygments_lexer": "ipython3",
      "version": "3.6.9"
    }
  },
  "cells": [
    {
      "cell_type": "markdown",
      "metadata": {
        "id": "tktvdabC18-s"
      },
      "source": [
        "\n",
        "# Convolutional Neural Networks for Object Localization"
      ]
    },
    {
      "cell_type": "markdown",
      "metadata": {
        "id": "niJxVteL18-y"
      },
      "source": [
        "In this notebook we will learn how to implement a convolutional neural network (CNN) regressor to localize objects of the FashionMNIST dataset. We will use the Pytorch library for the implementation, compilation and training of the model.\n",
        "\n",
        "The input to our model is a $64 \\times 64$ image with a FashionMNIST object at any location, and the output of the model are four real numbers that define a bounding box (x, y, width, and height) around the object."
      ]
    },
    {
      "cell_type": "markdown",
      "metadata": {
        "id": "MzOESkSSOONP"
      },
      "source": [
        "![localization_task.png](data:image/png;base64,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)"
      ]
    },
    {
      "cell_type": "markdown",
      "metadata": {
        "id": "mFLTv4idOONR"
      },
      "source": [
        "### Import necessary modules"
      ]
    },
    {
      "cell_type": "code",
      "metadata": {
        "colab": {
          "base_uri": "https://localhost:8080/"
        },
        "id": "Z__gn53GOONT",
        "outputId": "ee79da33-a16b-4abe-c734-0bffc492f121"
      },
      "source": [
        "import torch\n",
        "import torch.nn as nn\n",
        "import torch.nn.functional as F\n",
        "import torch.optim as optim\n",
        "from torch.utils.data import Dataset, DataLoader\n",
        "from torchvision import datasets, transforms\n",
        "from torch.optim.lr_scheduler import StepLR\n",
        "\n",
        "import numpy as np\n",
        "import matplotlib.pyplot as plt\n",
        "from skimage.transform import resize\n",
        "\n",
        "from torchsummary import summary\n",
        "\n",
        "print('Check GPU runtime type... ')\n",
        "use_cuda = torch.cuda.is_available()\n",
        "if not use_cuda:\n",
        "  device = \"cpu\"\n",
        "  print('Change Runtype Type in top menu for GPU acceleration')\n",
        "else:\n",
        "  device = \"cuda\"\n",
        "  print('OK!')"
      ],
      "execution_count": 11,
      "outputs": [
        {
          "output_type": "stream",
          "text": [
            "Check GPU runtime type... \n",
            "OK!\n"
          ],
          "name": "stdout"
        }
      ]
    },
    {
      "cell_type": "markdown",
      "metadata": {
        "id": "xJG-7PGF18-0"
      },
      "source": [
        "## Create a custom dataset"
      ]
    },
    {
      "cell_type": "markdown",
      "metadata": {
        "id": "1xicFSzH18-1"
      },
      "source": [
        "First of all we need a custom dataset class to create our training/test samples. This class creates synthetic images by placing FashionMNIST objects (wich have a size $28 \\times 28$) at random locations of a black $64 \\times 64$ canvas image."
      ]
    },
    {
      "cell_type": "code",
      "metadata": {
        "id": "RhvETBzY18-2"
      },
      "source": [
        "class FashionMNISTlocalizationDataset(Dataset):\n",
        "    \"\"\"MNIST localization toy dataset.\"\"\"\n",
        "\n",
        "    def __init__(self, imgsize=(64,64), train=True, transform=None):\n",
        "        \"\"\"\n",
        "        Args:\n",
        "            imgsize (tuple (int,int), optional) - the size of generated images,\n",
        "                both width and height must be > 48\n",
        "            train (bool, optional) – If True, creates dataset from MNIST training\n",
        "                samples, otherwise from test\n",
        "            transform (callable, optional): Optional transform to be applied\n",
        "                on a sample.\n",
        "        \"\"\"\n",
        "        assert len(imgsize)==2 and imgsize[0] > 48 and imgsize[1] > 48\n",
        "        self.imgsize = imgsize\n",
        "        self.transform = transform\n",
        "        self.fashionMnist = datasets.FashionMNIST('../data', train=train, download=True)\n",
        "\n",
        "    def __len__(self):\n",
        "        return self.fashionMnist.data.shape[0]\n",
        "\n",
        "    def __getitem__(self, idx):\n",
        "        if torch.is_tensor(idx):\n",
        "            idx = idx.tolist()\n",
        "        # create a black image\n",
        "        image = torch.zeros(self.imgsize)\n",
        "        image_width, image_height = self.imgsize\n",
        "                \n",
        "        # Get one Fashion-MNIST object, resize it randomly, and copy it into\n",
        "        # a random location of the black image\n",
        "        object_img = self.fashionMnist.data[idx,:,:]\n",
        "\n",
        "        object_width  = object_height = np.random.randint(19,47)\n",
        "\n",
        "        object_img = resize(object_img, (object_height, object_width))\n",
        "\n",
        "        x_offset = np.random.randint(0,image_width-object_width)\n",
        "        y_offset = np.random.randint(0,image_height-object_height)\n",
        "\n",
        "        image[y_offset:y_offset+object_height, x_offset:x_offset+object_width] += object_img\n",
        "        \n",
        "        image = image.reshape((1,)+self.imgsize) # must be a tensor image of size (C, H, W)\n",
        "        \n",
        "        if self.transform:\n",
        "            image = self.transform(image)\n",
        "\n",
        "        # normalize the target values (bounding box coordinates) so they are real numbers from 0. to 1.\n",
        "        bbox = np.array([x_offset / image_width, y_offset / image_height, \n",
        "                         object_width / image_width, object_height / image_height], dtype=np.float32)\n",
        "            \n",
        "        sample = {'image': image, 'bbox': bbox}\n",
        "\n",
        "        return sample"
      ],
      "execution_count": 48,
      "outputs": []
    },
    {
      "cell_type": "markdown",
      "metadata": {
        "id": "vWKcFZeSOONa"
      },
      "source": [
        "Now we can create the necessary Dataset and DataLoader objects as follows."
      ]
    },
    {
      "cell_type": "code",
      "metadata": {
        "id": "uFW3wayxOONb"
      },
      "source": [
        "transform=transforms.Compose([\n",
        "        transforms.Normalize((0.1307,), (0.3081,))\n",
        "        ])\n",
        "\n",
        "dataset1 = FashionMNISTlocalizationDataset(train=True, transform=transform)\n",
        "dataset2 = FashionMNISTlocalizationDataset(train=False, transform=transform)\n",
        "\n",
        "train_kwargs = {'batch_size': 64}\n",
        "test_kwargs  = {'batch_size': 1000}\n",
        "\n",
        "if use_cuda:\n",
        "    cuda_kwargs = {'num_workers': 1,\n",
        "                   'pin_memory': True,\n",
        "                   'shuffle': True}\n",
        "    train_kwargs.update(cuda_kwargs)\n",
        "    test_kwargs.update(cuda_kwargs)\n",
        "\n",
        "train_loader = DataLoader(dataset1, **train_kwargs)\n",
        "test_loader = DataLoader(dataset2, **test_kwargs)"
      ],
      "execution_count": 49,
      "outputs": []
    },
    {
      "cell_type": "markdown",
      "metadata": {
        "id": "mS-cmCLP18-2"
      },
      "source": [
        "### Visualize some generated samples"
      ]
    },
    {
      "cell_type": "code",
      "metadata": {
        "colab": {
          "base_uri": "https://localhost:8080/",
          "height": 195
        },
        "id": "4aAtRuL-18-2",
        "outputId": "838b9db4-d587-48d7-fe0f-6c025e5d6272"
      },
      "source": [
        "def show_bbox(image, bbox, pred=None):\n",
        "    \"\"\"Show image with bbox\"\"\"\n",
        "    image = image.squeeze()\n",
        "    plt.imshow(image, cmap='gray')\n",
        "\n",
        "    # plot the ground truth bounding box\n",
        "    imgsize = image.shape\n",
        "    bbox *= [imgsize[1],imgsize[0],imgsize[0],imgsize[1]]\n",
        "    plt.plot([bbox[0],bbox[0]+bbox[2],bbox[0]+bbox[2],bbox[0],bbox[0]],\n",
        "             [bbox[1],bbox[1],bbox[1]+bbox[3],bbox[1]+bbox[3],bbox[1]], c='r')\n",
        "\n",
        "    if pred is not None: \n",
        "        # plot the predicted bounding box (if provided)\n",
        "        pred *= [imgsize[1],imgsize[0],imgsize[0],imgsize[1]]\n",
        "        plt.plot([pred[0],pred[0]+pred[2],pred[0]+pred[2],pred[0],pred[0]],\n",
        "                 [pred[1],pred[1],pred[1]+pred[3],pred[1]+pred[3],pred[1]], c='b')\n",
        "    \n",
        "    \n",
        " \n",
        "fig = plt.figure()\n",
        "for i in range(len(dataset1)):\n",
        "    sample = dataset1[i]\n",
        "    print(i, sample['image'].shape, sample['bbox'].shape)\n",
        "    ax = plt.subplot(1, 4, i + 1)\n",
        "    plt.tight_layout()\n",
        "    ax.set_title('Sample #{}'.format(i))\n",
        "    ax.axis('off')\n",
        "    show_bbox(**sample)\n",
        "\n",
        "    if i == 3:\n",
        "        plt.show()\n",
        "        break"
      ],
      "execution_count": 50,
      "outputs": [
        {
          "output_type": "stream",
          "text": [
            "0 torch.Size([1, 64, 64]) (4,)\n",
            "1 torch.Size([1, 64, 64]) (4,)\n",
            "2 torch.Size([1, 64, 64]) (4,)\n",
            "3 torch.Size([1, 64, 64]) (4,)\n"
          ],
          "name": "stdout"
        },
        {
          "output_type": "display_data",
          "data": {
            "image/png": "[encoded data removed]",
            "text/plain": [
              "<Figure size 432x288 with 4 Axes>"
            ]
          },
          "metadata": {
            "tags": [],
            "needs_background": "light"
          }
        }
      ]
    },
    {
      "cell_type": "code",
      "metadata": {
        "colab": {
          "base_uri": "https://localhost:8080/"
        },
        "id": "aszWIV0m18-5",
        "outputId": "22bba42f-9bef-4a79-b116-975cfe022cf7"
      },
      "source": [
        "# check the size of the dataset\n",
        "print(\"Size of training data: {}\".format(len(dataset1)))\n",
        "print(\"Size of test data: {}\".format(len(dataset2)))"
      ],
      "execution_count": 51,
      "outputs": [
        {
          "output_type": "stream",
          "text": [
            "Size of training data: 60000\n",
            "Size of test data: 10000\n"
          ],
          "name": "stdout"
        }
      ]
    },
    {
      "cell_type": "markdown",
      "metadata": {
        "id": "gmOpSBhE18-3"
      },
      "source": [
        "We have 60,000 images for training and 10,000 for testing. The image size is $64 \\times 64$ pixels and they have only one channel (greyscale images)."
      ]
    },
    {
      "cell_type": "markdown",
      "metadata": {
        "id": "DyLPtyuE18-7"
      },
      "source": [
        "## Create the CNN regression model\n",
        "\n",
        "We will use a simple CNN model with four convolutional layers, one pooling layer, and two fully connected layers. \n",
        "\n",
        "Notice that the output layer has four neurons with a `sigmoid` activation, so our model produces at its outputs four real numbers (x, y, width, and height)."
      ]
    },
    {
      "cell_type": "code",
      "metadata": {
        "id": "ind1Flc-18-7",
        "colab": {
          "base_uri": "https://localhost:8080/"
        },
        "outputId": "e0e12d08-9a62-4c53-80b7-fa66660fbf84"
      },
      "source": [
        "class Net(nn.Module):\n",
        "    def __init__(self):\n",
        "        super(Net, self).__init__()\n",
        "        self.backbone = nn.Sequential(\n",
        "          nn.Conv2d( 1, 8, 5, padding=2,stride=2), nn.ReLU(), #14\n",
        "          nn.Conv2d( 8,16, 3, padding=1,stride=2), nn.ReLU(), # 7\n",
        "          nn.Conv2d(16,32, 3, padding=1,stride=2), nn.ReLU(), # 4\n",
        "          nn.Conv2d(32,32, 3, padding=1,stride=2), nn.ReLU(), # 2\n",
        "          nn.AdaptiveAvgPool2d(1),\n",
        "          nn.Flatten(),\n",
        "          )\n",
        "        \n",
        "        self.bbox = nn.Sequential(nn.Linear(32,4), nn.Sigmoid())\n",
        "        \n",
        "    def forward(self, x):\n",
        "        features = self.backbone(x)\n",
        "        bbox = self.bbox(features)\n",
        "        return bbox\n",
        "\n",
        "summary(Net(),(1,64,64),device=\"cpu\")"
      ],
      "execution_count": 52,
      "outputs": [
        {
          "output_type": "stream",
          "text": [
            "----------------------------------------------------------------\n",
            "        Layer (type)               Output Shape         Param #\n",
            "================================================================\n",
            "            Conv2d-1            [-1, 8, 32, 32]             208\n",
            "              ReLU-2            [-1, 8, 32, 32]               0\n",
            "            Conv2d-3           [-1, 16, 16, 16]           1,168\n",
            "              ReLU-4           [-1, 16, 16, 16]               0\n",
            "            Conv2d-5             [-1, 32, 8, 8]           4,640\n",
            "              ReLU-6             [-1, 32, 8, 8]               0\n",
            "            Conv2d-7             [-1, 32, 4, 4]           9,248\n",
            "              ReLU-8             [-1, 32, 4, 4]               0\n",
            " AdaptiveAvgPool2d-9             [-1, 32, 1, 1]               0\n",
            "          Flatten-10                   [-1, 32]               0\n",
            "           Linear-11                    [-1, 4]             132\n",
            "          Sigmoid-12                    [-1, 4]               0\n",
            "================================================================\n",
            "Total params: 15,396\n",
            "Trainable params: 15,396\n",
            "Non-trainable params: 0\n",
            "----------------------------------------------------------------\n",
            "Input size (MB): 0.02\n",
            "Forward/backward pass size (MB): 0.23\n",
            "Params size (MB): 0.06\n",
            "Estimated Total Size (MB): 0.30\n",
            "----------------------------------------------------------------\n"
          ],
          "name": "stdout"
        }
      ]
    },
    {
      "cell_type": "markdown",
      "metadata": {
        "id": "ndYgcQkW18-8"
      },
      "source": [
        "### Define the training method\n",
        "\n",
        "For training our CNN regression model we will use the L1 loss, which takes the mean element-wise absolute value difference.\n",
        "\n",
        "See <a href=\"https://pytorch.org/docs/stable/generated/torch.nn.L1Loss.html#torch.nn.L1Loss\">`torch.nn.L1Loss`</a> for details."
      ]
    },
    {
      "cell_type": "code",
      "metadata": {
        "id": "u2LLkt5218-8"
      },
      "source": [
        "def train(model, device, train_loader, optimizer, epoch, scheduler=None):\n",
        "    model.train()\n",
        "    loss_values = []\n",
        "    for batch_idx, sample_batched in enumerate(train_loader):\n",
        "        data = sample_batched['image']\n",
        "        target = sample_batched['bbox']\n",
        "        data, target = data.to(device), target.to(device)\n",
        "        optimizer.zero_grad()\n",
        "        output = model(data)\n",
        "        loss = F.l1_loss(output, target)\n",
        "        loss_values.append(loss)\n",
        "        loss.backward()\n",
        "        optimizer.step()\n",
        "        if batch_idx % log_interval == 0:\n",
        "            print('Train Epoch: {} [{}/{} ({:.0f}%)]\\tLoss: {:.6f}'.format(\n",
        "                epoch, batch_idx * len(data), len(train_loader.dataset),\n",
        "                100. * batch_idx / len(train_loader), loss.item()))\n",
        "        if scheduler is not None:\n",
        "            scheduler.step()\n",
        "    return loss_values"
      ],
      "execution_count": 53,
      "outputs": []
    },
    {
      "cell_type": "markdown",
      "metadata": {
        "id": "oOvIRgNG18-8"
      },
      "source": [
        "### Train the model\n",
        "\n",
        "We will train the model with the [`Adam`](https://pytorch.org/docs/stable/optim.html?highlight=adam#torch.optim.Adam) and the [`OneCycleLR`](https://pytorch.org/docs/stable/optim.html?highlight=onecyclelr#torch.optim.lr_scheduler.OneCycleLR) learning rate scheduler."
      ]
    },
    {
      "cell_type": "code",
      "metadata": {
        "colab": {
          "base_uri": "https://localhost:8080/"
        },
        "id": "7yGqDf0w18-9",
        "outputId": "d4fda95e-afd0-4852-eef9-a3c911eacb05"
      },
      "source": [
        "model = Net().to(device)\n",
        "\n",
        "lr = 1e-2\n",
        "optimizer = optim.Adam(model.parameters(), lr=lr)\n",
        "\n",
        "epochs = 5\n",
        "scheduler = optim.lr_scheduler.OneCycleLR(optimizer, lr, epochs=epochs, steps_per_epoch=len(train_loader))\n",
        "\n",
        "log_interval = 100 # how many batches to wait before logging training status\n",
        "\n",
        "loss_history = []\n",
        "for epoch in range(1, epochs + 1):\n",
        "    loss_values = train(model, device, train_loader, optimizer, epoch, scheduler)\n",
        "    loss_history += loss_values"
      ],
      "execution_count": 54,
      "outputs": [
        {
          "output_type": "stream",
          "text": [
            "Train Epoch: 1 [0/60000 (0%)]\tLoss: 0.193848\n",
            "Train Epoch: 1 [6400/60000 (11%)]\tLoss: 0.091436\n",
            "Train Epoch: 1 [12800/60000 (21%)]\tLoss: 0.088445\n",
            "Train Epoch: 1 [19200/60000 (32%)]\tLoss: 0.074366\n",
            "Train Epoch: 1 [25600/60000 (43%)]\tLoss: 0.059886\n",
            "Train Epoch: 1 [32000/60000 (53%)]\tLoss: 0.054705\n",
            "Train Epoch: 1 [38400/60000 (64%)]\tLoss: 0.052834\n",
            "Train Epoch: 1 [44800/60000 (75%)]\tLoss: 0.046952\n",
            "Train Epoch: 1 [51200/60000 (85%)]\tLoss: 0.041622\n",
            "Train Epoch: 1 [57600/60000 (96%)]\tLoss: 0.043614\n",
            "Train Epoch: 2 [0/60000 (0%)]\tLoss: 0.049566\n",
            "Train Epoch: 2 [6400/60000 (11%)]\tLoss: 0.041591\n",
            "Train Epoch: 2 [12800/60000 (21%)]\tLoss: 0.031986\n",
            "Train Epoch: 2 [19200/60000 (32%)]\tLoss: 0.033208\n",
            "Train Epoch: 2 [25600/60000 (43%)]\tLoss: 0.030356\n",
            "Train Epoch: 2 [32000/60000 (53%)]\tLoss: 0.026294\n",
            "Train Epoch: 2 [38400/60000 (64%)]\tLoss: 0.024382\n",
            "Train Epoch: 2 [44800/60000 (75%)]\tLoss: 0.020371\n",
            "Train Epoch: 2 [51200/60000 (85%)]\tLoss: 0.022565\n",
            "Train Epoch: 2 [57600/60000 (96%)]\tLoss: 0.024950\n",
            "Train Epoch: 3 [0/60000 (0%)]\tLoss: 0.021068\n",
            "Train Epoch: 3 [6400/60000 (11%)]\tLoss: 0.023372\n",
            "Train Epoch: 3 [12800/60000 (21%)]\tLoss: 0.018390\n",
            "Train Epoch: 3 [19200/60000 (32%)]\tLoss: 0.023850\n",
            "Train Epoch: 3 [25600/60000 (43%)]\tLoss: 0.019913\n",
            "Train Epoch: 3 [32000/60000 (53%)]\tLoss: 0.020198\n",
            "Train Epoch: 3 [38400/60000 (64%)]\tLoss: 0.019838\n",
            "Train Epoch: 3 [44800/60000 (75%)]\tLoss: 0.016662\n",
            "Train Epoch: 3 [51200/60000 (85%)]\tLoss: 0.016480\n",
            "Train Epoch: 3 [57600/60000 (96%)]\tLoss: 0.016511\n",
            "Train Epoch: 4 [0/60000 (0%)]\tLoss: 0.015867\n",
            "Train Epoch: 4 [6400/60000 (11%)]\tLoss: 0.020386\n",
            "Train Epoch: 4 [12800/60000 (21%)]\tLoss: 0.017430\n",
            "Train Epoch: 4 [19200/60000 (32%)]\tLoss: 0.014827\n",
            "Train Epoch: 4 [25600/60000 (43%)]\tLoss: 0.014887\n",
            "Train Epoch: 4 [32000/60000 (53%)]\tLoss: 0.014504\n",
            "Train Epoch: 4 [38400/60000 (64%)]\tLoss: 0.014425\n",
            "Train Epoch: 4 [44800/60000 (75%)]\tLoss: 0.014549\n",
            "Train Epoch: 4 [51200/60000 (85%)]\tLoss: 0.013941\n",
            "Train Epoch: 4 [57600/60000 (96%)]\tLoss: 0.014393\n",
            "Train Epoch: 5 [0/60000 (0%)]\tLoss: 0.013086\n",
            "Train Epoch: 5 [6400/60000 (11%)]\tLoss: 0.013411\n",
            "Train Epoch: 5 [12800/60000 (21%)]\tLoss: 0.015235\n",
            "Train Epoch: 5 [19200/60000 (32%)]\tLoss: 0.013603\n",
            "Train Epoch: 5 [25600/60000 (43%)]\tLoss: 0.013242\n",
            "Train Epoch: 5 [32000/60000 (53%)]\tLoss: 0.014266\n",
            "Train Epoch: 5 [38400/60000 (64%)]\tLoss: 0.012022\n",
            "Train Epoch: 5 [44800/60000 (75%)]\tLoss: 0.012614\n",
            "Train Epoch: 5 [51200/60000 (85%)]\tLoss: 0.012831\n",
            "Train Epoch: 5 [57600/60000 (96%)]\tLoss: 0.014260\n"
          ],
          "name": "stdout"
        }
      ]
    },
    {
      "cell_type": "markdown",
      "metadata": {
        "id": "mIMOMKRh18--"
      },
      "source": [
        "### Plot the loss over time"
      ]
    },
    {
      "cell_type": "code",
      "metadata": {
        "id": "Jb2ocuvo18--",
        "colab": {
          "base_uri": "https://localhost:8080/",
          "height": 281
        },
        "outputId": "677a6190-74f1-4f76-f866-c45f7214f03b"
      },
      "source": [
        "plt.plot(np.arange(len(loss_history)), loss_history)\n",
        "plt.title('L1 training loss')\n",
        "plt.show()"
      ],
      "execution_count": 56,
      "outputs": [
        {
          "output_type": "display_data",
          "data": {
            "image/png": "[encoded data removed]",
            "text/plain": [
              "<Figure size 432x288 with 1 Axes>"
            ]
          },
          "metadata": {
            "tags": [],
            "needs_background": "light"
          }
        }
      ]
    },
    {
      "cell_type": "markdown",
      "metadata": {
        "id": "5tWPmXhk18--"
      },
      "source": [
        "## Evaluate the model\n",
        "\n",
        "Finally, we can use the trained model to predict a bounding box for any given image. Let's see how to make predictions for the first four images of the test set."
      ]
    },
    {
      "cell_type": "code",
      "metadata": {
        "colab": {
          "base_uri": "https://localhost:8080/",
          "height": 122
        },
        "id": "JMecAtU618--",
        "outputId": "77401fbd-04fb-4a95-e0b3-15e96299fe60"
      },
      "source": [
        "model.eval()\n",
        "\n",
        "fig = plt.figure()\n",
        "for i in range(len(dataset2)):\n",
        "    sample = dataset2[i]\n",
        "    ax = plt.subplot(1, 4, i + 1)\n",
        "    plt.tight_layout()\n",
        "    ax.set_title('Sample #{}'.format(i))\n",
        "    ax.axis('off')\n",
        "    \n",
        "    # predict the bounding box for a given image\n",
        "    data = sample['image']\n",
        "    data = data.reshape((1,)+data.shape) # shape must be (b,c,h,w)\n",
        "    data = data.to(device)\n",
        "    with torch.no_grad():\n",
        "        output = model(data)\n",
        "        \n",
        "    sample['pred'] = output[0].cpu().numpy()\n",
        "    show_bbox(**sample)\n",
        "\n",
        "    if i == 3:\n",
        "        plt.show()\n",
        "        break"
      ],
      "execution_count": 41,
      "outputs": [
        {
          "output_type": "display_data",
          "data": {
            "image/png": "[encoded data removed]",
            "text/plain": [
              "<Figure size 432x288 with 4 Axes>"
            ]
          },
          "metadata": {
            "tags": [],
            "needs_background": "light"
          }
        }
      ]
    },
    {
      "cell_type": "markdown",
      "metadata": {
        "id": "aLdoYXd6OONt"
      },
      "source": [
        "We appreciate that the predicted bounding boxes (blue) are usually good aproximations of the ground truth (red).\n",
        "\n",
        "In order to measure whether the results are correct or not in the entire test set we need to implement a performance measure based on the Intersection over Union (IoU) of the ground truth and predicted bounding boxes.\n",
        "\n",
        "<table>\n",
        "<tr>\n",
        "<td><img src=\"https://www.pyimagesearch.com/wp-content/uploads/2016/09/iou_stop_sign.jpg\" width=50%></td>\n",
        "<td><img src=\"https://www.pyimagesearch.com/wp-content/uploads/2016/09/iou_equation.png\" width=50%></td>\n",
        "</tr>\n",
        "<tr>\n",
        "<td colspan=2><div style=\"font-size:3\">Images from: https://www.pyimagesearch.com/2016/11/07/intersection-over-union-iou-for-object-detection/</div></td>\n",
        "</tr>\n",
        "</table>\n"
      ]
    },
    {
      "cell_type": "code",
      "metadata": {
        "id": "QHAsXDCuOONt"
      },
      "source": [
        "def IoU(pred, target, iou_threshold = 0.7):\n",
        "    # determine the coordinates of the intersection rectangle\n",
        "    x_left = np.maximum(pred[:,0], target[:,0])\n",
        "    y_top = np.maximum(pred[:,1], target[:,1])\n",
        "    x_right = np.minimum(pred[:,0]+pred[:,2], target[:,0]+target[:,2])\n",
        "    y_bottom = np.minimum(pred[:,1]+pred[:,3], target[:,1]+target[:,3])\n",
        "    \n",
        "    intersection_area = (x_right - x_left) * (y_bottom - y_top)\n",
        "    \n",
        "    # compute the areas of the union\n",
        "    pred_area = pred[:,2] * pred[:,3]\n",
        "    target_area =  target[:,2] *  target[:,3]\n",
        "    \n",
        "    union_area = pred_area + target_area - intersection_area\n",
        "    \n",
        "    iou = intersection_area / union_area\n",
        "    \n",
        "    return iou>iou_threshold"
      ],
      "execution_count": 43,
      "outputs": []
    },
    {
      "cell_type": "markdown",
      "metadata": {
        "id": "gSdUIu0SOONu"
      },
      "source": [
        "### Define the test method"
      ]
    },
    {
      "cell_type": "code",
      "metadata": {
        "colab": {
          "base_uri": "https://localhost:8080/"
        },
        "id": "8oKnoZ3-OONu",
        "outputId": "673e7bf3-694d-43f6-c2f3-4283c05ff674"
      },
      "source": [
        "def test(model, device, test_loader):\n",
        "    model.eval()\n",
        "    test_loss = 0\n",
        "    correct = 0\n",
        "    with torch.no_grad():\n",
        "        for batch_idx, sample_batched in enumerate(test_loader):\n",
        "            data = sample_batched['image']\n",
        "            target = sample_batched['bbox']\n",
        "            data, target = data.to(device), target.to(device)\n",
        "            output = model(data)\n",
        "            test_loss += F.l1_loss(output, target).item()\n",
        "            \n",
        "            # count the number of prediction with an IoU above a certain threshold\n",
        "            correct += np.sum(IoU(output.cpu().numpy(), target.cpu().numpy(), iou_threshold = 0.7))\n",
        "\n",
        "    test_loss /= (len(test_loader.dataset)/test_loader.batch_size)\n",
        "\n",
        "    print('\\nTest set: Average loss: {:.4f}, Accuracy: {}/{} ({:.0f}%)\\n'.format(\n",
        "        test_loss, correct, len(test_loader.dataset),\n",
        "        100. * correct / len(test_loader.dataset)))\n",
        "    \n",
        "\n",
        "# call the test method\n",
        "test(model, device, test_loader)"
      ],
      "execution_count": 44,
      "outputs": [
        {
          "output_type": "stream",
          "text": [
            "\n",
            "Test set: Average loss: 0.0178, Accuracy: 8414/10000 (84%)\n",
            "\n"
          ],
          "name": "stdout"
        }
      ]
    },
    {
      "cell_type": "markdown",
      "metadata": {
        "id": "-rhTVz2SO1JK"
      },
      "source": [
        "It usually a good idea to manually inspect the errors of the model in order to figure out when it is not working well."
      ]
    },
    {
      "cell_type": "code",
      "metadata": {
        "scrolled": true,
        "colab": {
          "base_uri": "https://localhost:8080/",
          "height": 106
        },
        "id": "V1oTY9JwOONv",
        "outputId": "ecd9c06a-ad6a-459f-8ccb-755884c9ef5d"
      },
      "source": [
        "# Find wrong prediction and display it\n",
        "\n",
        "model.eval()\n",
        "\n",
        "count = 0\n",
        "\n",
        "for i in range(len(dataset2)):\n",
        "    sample = dataset2[i]\n",
        "    \n",
        "    # predict the bounding box for a given image\n",
        "    data = sample['image']\n",
        "    data = data.reshape((1,)+data.shape) # shape must be (b,c,h,w)\n",
        "    data = data.to(device)\n",
        "    with torch.no_grad():\n",
        "        output = model(data)\n",
        "    \n",
        "    target = sample['bbox'].reshape((1,4))\n",
        "    iou= IoU(output.cpu().numpy(), target, iou_threshold = 0.7)\n",
        "    \n",
        "    if not iou:\n",
        "        #print(output.cpu().numpy(), target,iou)\n",
        "        ax = plt.subplot(1, 4, count + 1)\n",
        "        plt.tight_layout()\n",
        "        ax.axis('off')\n",
        "        sample['pred'] = output[0].cpu().numpy()\n",
        "        show_bbox(**sample)\n",
        "        count += 1\n",
        "           \n",
        "    if count == 4:\n",
        "        plt.show()\n",
        "        break\n",
        "\n",
        "\n",
        "\n"
      ],
      "execution_count": 47,
      "outputs": [
        {
          "output_type": "display_data",
          "data": {
            "image/png": "[encoded data removed]",
            "text/plain": [
              "<Figure size 432x288 with 4 Axes>"
            ]
          },
          "metadata": {
            "tags": [],
            "needs_background": "light"
          }
        }
      ]
    },
    {
      "cell_type": "markdown",
      "metadata": {
        "id": "xuzop7NV18--"
      },
      "source": [
        "\n",
        "## HOMEWORK"
      ]
    },
    {
      "cell_type": "markdown",
      "metadata": {
        "id": "iGojc_20RiGL"
      },
      "source": [
        "**A)** Create a CNN model for classification and train it on our synthetic dataset for 5 epochs. For this you must create a new Dataset class that produces the ground truth class labels for classification instead of the bounding box annotations as we did in the `FashionMNISTlocalizationDataset` class."
      ]
    },
    {
      "cell_type": "code",
      "metadata": {
        "id": "87vOZaMkSCrs"
      },
      "source": [
        "# Add your code here"
      ],
      "execution_count": null,
      "outputs": []
    },
    {
      "cell_type": "markdown",
      "metadata": {
        "id": "eLDUtAKPVMi5"
      },
      "source": [
        "**B)** Plot the training loss curves of the regression model and the classification model in the same figure. We want to compare the two loss curves, so it is important to plot them in the same figure and to set up a legend for the plot. This figure is very important because it will give you a hint for the next exercise."
      ]
    },
    {
      "cell_type": "code",
      "metadata": {
        "id": "Gps5SSTGWLn5"
      },
      "source": [
        "# Add your code here"
      ],
      "execution_count": 55,
      "outputs": []
    },
    {
      "cell_type": "markdown",
      "metadata": {
        "id": "9N-zhanZRdsE"
      },
      "source": [
        "**C)** Modify the regression model adding a classification output, so that it can jointly predict the bounding box of the object and also its class label. This implies you will need to modify: the model (it must have two separate outputs), the Dataset class (to produce the ground truth class label AND the bounding box coordinates), and your training method by adding a new loss that combines a regression loss and a classification loss. Think about how to combine these two losses in a single cost function to be optimized. Hint: look at the figure of exercise (B)."
      ]
    },
    {
      "cell_type": "code",
      "metadata": {
        "id": "iKEggN6MR9Ad"
      },
      "source": [
        "# Add your code here"
      ],
      "execution_count": null,
      "outputs": []
    },
    {
      "cell_type": "markdown",
      "metadata": {
        "id": "UzTbQjW0ifgy"
      },
      "source": [
        "**D)** Evaluate the trained model for the joint classification and localization task. You must modify the test method to count a given prediction as correct if it correctly localizes the object AND predicts the correct label."
      ]
    },
    {
      "cell_type": "code",
      "metadata": {
        "id": "Ma0cBDAKihOz"
      },
      "source": [
        "# Add your code here"
      ],
      "execution_count": null,
      "outputs": []
    },
    {
      "cell_type": "markdown",
      "metadata": {
        "id": "lWI7d8VsRs-e"
      },
      "source": [
        "**E)** (OPTIONAL EXERCISE) Modify the model so it can also detect if an input image contains no object. For this you must add another regression output for the digit confidence (a value between 0. and 1. indicating the presence of an object). This implies you will need to modify the Dataset class to generate images without digits. Also, during training you must take care of not backpropagating the bounding box and classification losses when there is no digit."
      ]
    },
    {
      "cell_type": "code",
      "metadata": {
        "id": "kvhj73UX18--"
      },
      "source": [
        "# Add your code here"
      ],
      "execution_count": null,
      "outputs": []
    }
  ]
}